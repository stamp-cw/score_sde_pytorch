{
 "cells": [
  {
   "cell_type": "code",
   "execution_count": null,
   "id": "13ba8477-a0ab-49ef-baa0-3cc836c98e57",
   "metadata": {},
   "outputs": [],
   "source": [
    "def calc_fid(real_img_dir,gen_img_dir):\n",
    "    # compute FID\n",
    "    # real_img_dir = r\"./data/CIFAR_REAL\"\n",
    "    # gen_img_dir = r\"./data/CIFAR_sigmoid\"\n",
    "    metrics_dict = torch_fidelity.calculate_metrics(\n",
    "        input1=real_img_dir,\n",
    "        input2=gen_img_dir,\n",
    "        cuda=True,\n",
    "        fid=True,\n",
    "        kid=True,\n",
    "        isc=True,\n",
    "        verbose=True,\n",
    "    )\n",
    "    print(metrics_dict)\n",
    "    return metrics_dict"
   ]
  },
  {
   "cell_type": "code",
   "execution_count": null,
   "id": "f3d6757f-d8fb-4273-9a2e-8966da4722bd",
   "metadata": {},
   "outputs": [],
   "source": [
    "calc_fid()"
   ]
  }
 ],
 "metadata": {
  "kernelspec": {
   "display_name": "Python 3 (ipykernel)",
   "language": "python",
   "name": "python3"
  },
  "language_info": {
   "codemirror_mode": {
    "name": "ipython",
    "version": 3
   },
   "file_extension": ".py",
   "mimetype": "text/x-python",
   "name": "python",
   "nbconvert_exporter": "python",
   "pygments_lexer": "ipython3",
   "version": "3.11.8"
  }
 },
 "nbformat": 4,
 "nbformat_minor": 5
}
